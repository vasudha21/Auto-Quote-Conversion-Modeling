{
 "cells": [
  {
   "cell_type": "code",
   "execution_count": 2,
   "id": "708e78f0",
   "metadata": {
    "id": "708e78f0"
   },
   "outputs": [],
   "source": [
    "#import all the libraries for data manipulation\n",
    "import numpy as np\n",
    "import pandas as pd\n",
    "import seaborn as sns\n",
    "import matplotlib.pyplot as plt\n",
    "import datetime as dt"
   ]
  },
  {
   "cell_type": "code",
   "execution_count": null,
   "id": "aa22bb79",
   "metadata": {
    "id": "aa22bb79"
   },
   "outputs": [],
   "source": [
    "#read all the given files (policies, veihcles, drivers)\n",
    "#note we divided data into 70:30 ratio for training and testing\n",
    "data = pd.read_csv(\"C:/Users/admin/Desktop/Husky/Travellers/policies_train.csv\")"
   ]
  },
  {
   "cell_type": "code",
   "execution_count": null,
   "id": "a4eedd7d",
   "metadata": {
    "id": "a4eedd7d"
   },
   "outputs": [],
   "source": [
    "vehicles = pd.read_csv(\"C:/Users/admin/Desktop/Husky/Travellers/vehicles.csv\")"
   ]
  },
  {
   "cell_type": "code",
   "execution_count": null,
   "id": "91b177ad",
   "metadata": {
    "id": "91b177ad"
   },
   "outputs": [],
   "source": [
    "drivers = pd.read_csv(\"C:/Users/admin/Desktop/Husky/Travellers/drivers.csv\")"
   ]
  },
  {
   "cell_type": "code",
   "execution_count": null,
   "id": "d42c808d",
   "metadata": {
    "id": "d42c808d"
   },
   "outputs": [],
   "source": [
    "test = pd.read_csv(\"C:/Users/admin/Desktop/Husky/Travellers/policies_test.csv\")"
   ]
  },
  {
   "cell_type": "code",
   "execution_count": null,
   "id": "d914e552",
   "metadata": {
    "id": "d914e552"
   },
   "outputs": [],
   "source": [
    "test1 = pd.read_csv(\"C:/Users/admin/Desktop/Husky/Travellers/policies_test.csv\")"
   ]
  },
  {
   "cell_type": "code",
   "execution_count": null,
   "id": "040f01ac",
   "metadata": {
    "id": "040f01ac"
   },
   "outputs": [],
   "source": [
    "pd.set_option('max_columns', None)\n",
    "pd.set_option('display.max_rows', 150)"
   ]
  },
  {
   "cell_type": "code",
   "execution_count": null,
   "id": "f2a80ab0",
   "metadata": {
    "colab": {
     "base_uri": "https://localhost:8080/"
    },
    "id": "f2a80ab0",
    "outputId": "2e6b6420-0bca-4d19-cc8c-2654075cebc6"
   },
   "outputs": [],
   "source": [
    "#data vidualization for all datasets\n",
    "data.shape"
   ]
  },
  {
   "cell_type": "code",
   "execution_count": null,
   "id": "e6bfe5be",
   "metadata": {
    "colab": {
     "base_uri": "https://localhost:8080/"
    },
    "id": "e6bfe5be",
    "outputId": "4b292c63-b285-48aa-a98b-93494b370688"
   },
   "outputs": [],
   "source": [
    "vehicles.shape"
   ]
  },
  {
   "cell_type": "code",
   "execution_count": null,
   "id": "4f4baba5",
   "metadata": {
    "colab": {
     "base_uri": "https://localhost:8080/"
    },
    "id": "4f4baba5",
    "outputId": "945cd138-4100-4e9d-a289-cfa4c14fd3af"
   },
   "outputs": [],
   "source": [
    "drivers.shape"
   ]
  },
  {
   "cell_type": "code",
   "execution_count": null,
   "id": "bf5768e0",
   "metadata": {
    "colab": {
     "base_uri": "https://localhost:8080/"
    },
    "id": "bf5768e0",
    "outputId": "8495825b-1f3e-42dc-acf1-76624b38e4f7"
   },
   "outputs": [],
   "source": [
    "test.shape"
   ]
  },
  {
   "cell_type": "code",
   "execution_count": null,
   "id": "f39073d0",
   "metadata": {
    "colab": {
     "base_uri": "https://localhost:8080/",
     "height": 340
    },
    "id": "f39073d0",
    "outputId": "02065eee-8201-4dcb-a3c6-c379b4a55650"
   },
   "outputs": [],
   "source": [
    "data.head()"
   ]
  },
  {
   "cell_type": "code",
   "execution_count": null,
   "id": "6cfc50b7",
   "metadata": {
    "colab": {
     "base_uri": "https://localhost:8080/",
     "height": 206
    },
    "id": "6cfc50b7",
    "outputId": "002120d2-f509-44fe-82e7-8abc2d4e0a95"
   },
   "outputs": [],
   "source": [
    "vehicles.head()"
   ]
  },
  {
   "cell_type": "code",
   "execution_count": null,
   "id": "f74540ff",
   "metadata": {
    "colab": {
     "base_uri": "https://localhost:8080/"
    },
    "id": "f74540ff",
    "outputId": "ba619270-e481-43ef-e670-5a8a1cbaae3e"
   },
   "outputs": [],
   "source": [
    "vehicles.info()"
   ]
  },
  {
   "cell_type": "code",
   "execution_count": null,
   "id": "2d68b320",
   "metadata": {
    "colab": {
     "base_uri": "https://localhost:8080/",
     "height": 206
    },
    "id": "2d68b320",
    "outputId": "6d3e6464-6969-4a46-bf3b-e48268362de2"
   },
   "outputs": [],
   "source": [
    "drivers.head()"
   ]
  },
  {
   "cell_type": "code",
   "execution_count": null,
   "id": "25580ca5",
   "metadata": {
    "colab": {
     "base_uri": "https://localhost:8080/"
    },
    "id": "25580ca5",
    "outputId": "3b6c9bc8-282b-44fa-e2bd-0a12f24a8617"
   },
   "outputs": [],
   "source": [
    "drivers.info()"
   ]
  },
  {
   "cell_type": "code",
   "execution_count": null,
   "id": "5540a45e",
   "metadata": {
    "id": "5540a45e"
   },
   "outputs": [],
   "source": [
    "vdata = vehicles"
   ]
  },
  {
   "cell_type": "code",
   "execution_count": null,
   "id": "8fca285a",
   "metadata": {
    "id": "8fca285a"
   },
   "outputs": [],
   "source": []
  },
  {
   "cell_type": "markdown",
   "id": "dd792787",
   "metadata": {
    "id": "dd792787"
   },
   "source": [
    "-----------------\n",
    "## Merging vehicles with policy\n",
    "-----------------"
   ]
  },
  {
   "cell_type": "code",
   "execution_count": null,
   "id": "efe97c58",
   "metadata": {
    "colab": {
     "base_uri": "https://localhost:8080/",
     "height": 0
    },
    "id": "efe97c58",
    "outputId": "16e3fa4a-9700-4834-e9d7-ac100a43cc0d"
   },
   "outputs": [],
   "source": [
    "vdata.head()"
   ]
  },
  {
   "cell_type": "code",
   "execution_count": null,
   "id": "97e03b40",
   "metadata": {
    "colab": {
     "base_uri": "https://localhost:8080/",
     "height": 0
    },
    "id": "97e03b40",
    "outputId": "907be2a1-07dc-43d5-a796-2b38ba84abe9"
   },
   "outputs": [],
   "source": [
    "vdata['make'] = vdata['make_model'].str.split(':', 0).str[0]\n",
    "vdata.head()"
   ]
  },
  {
   "cell_type": "code",
   "execution_count": null,
   "id": "6b9ff31c",
   "metadata": {
    "colab": {
     "base_uri": "https://localhost:8080/",
     "height": 0
    },
    "id": "6b9ff31c",
    "outputId": "565f2644-48bc-4efa-f519-3e189d4d2acb"
   },
   "outputs": [],
   "source": [
    "vdata.drop(['make_model'], axis = 1, inplace = True)\n",
    "vdata.head()"
   ]
  },
  {
   "cell_type": "markdown",
   "id": "28ee8f58",
   "metadata": {
    "id": "28ee8f58"
   },
   "source": [
    "### First the categorical variables are transformed"
   ]
  },
  {
   "cell_type": "code",
   "execution_count": null,
   "id": "dbabf2c8",
   "metadata": {
    "colab": {
     "base_uri": "https://localhost:8080/",
     "height": 0
    },
    "id": "dbabf2c8",
    "outputId": "1da456af-c4aa-4503-e5d3-caf8b0d0f365"
   },
   "outputs": [],
   "source": [
    "vdata = pd.get_dummies(vdata, columns = ['ownership_type', 'color', 'make' ])\n",
    "vdata.head()"
   ]
  },
  {
   "cell_type": "markdown",
   "id": "f0bdab46",
   "metadata": {
    "id": "f0bdab46"
   },
   "source": [
    "### The dataset is then grouped by the policy no\n",
    "#### - For attribute age -> mean, min, max is tabulated in seperate columns\n",
    "#### - For attribute car_no, only the max value from the column is taken for each policy, as that gives total cars in that policy\n",
    "#### - For all binary columns that we just transformed, the sum is taken to aggregate data for each policy"
   ]
  },
  {
   "cell_type": "code",
   "execution_count": null,
   "id": "adcc145a",
   "metadata": {
    "colab": {
     "base_uri": "https://localhost:8080/"
    },
    "id": "adcc145a",
    "outputId": "785cab50-15b6-4ec4-e992-3da4f6fcc399"
   },
   "outputs": [],
   "source": [
    "bool_cols = [col for col in vdata \n",
    "             if np.isin(vdata[col].dropna().unique(), [0, 1]).all()]\n",
    "bool_cols"
   ]
  },
  {
   "cell_type": "code",
   "execution_count": null,
   "id": "bf1fe5bb",
   "metadata": {
    "colab": {
     "base_uri": "https://localhost:8080/",
     "height": 0
    },
    "id": "bf1fe5bb",
    "outputId": "f0548492-ed00-4fe7-8f1e-5e6b842db295"
   },
   "outputs": [],
   "source": [
    "vdata['age_min'] = vdata['age']\n",
    "vdata['age_max'] = vdata['age']\n",
    "d1 = {'car_no':'max'}\n",
    "d2 = {'age':'mean'}\n",
    "d3 = {'age_min':'min'}\n",
    "d4 = {'age_max':'max'}\n",
    "d5 = dict.fromkeys(bool_cols, 'sum')\n",
    "\n",
    "d = {**d1, **d2, **d3, **d4, **d5}\n",
    "vvdata = vdata.groupby('policy_id', as_index=False).agg(d)\n",
    "vvdata.head()"
   ]
  },
  {
   "cell_type": "code",
   "execution_count": null,
   "id": "810fa46b",
   "metadata": {
    "colab": {
     "base_uri": "https://localhost:8080/",
     "height": 0
    },
    "id": "810fa46b",
    "outputId": "da4c9a42-4809-49be-ea5c-d2900a550758"
   },
   "outputs": [],
   "source": [
    "data_veh = pd.merge(left = data, right = vvdata, how = 'inner', on = 'policy_id')\n",
    "data_veh.head()"
   ]
  },
  {
   "cell_type": "markdown",
   "id": "2a20c52b",
   "metadata": {
    "id": "2a20c52b"
   },
   "source": [
    "## Merging drivers to the previously merged dataset"
   ]
  },
  {
   "cell_type": "code",
   "execution_count": null,
   "id": "39082ba8",
   "metadata": {
    "id": "39082ba8"
   },
   "outputs": [],
   "source": [
    "ddata = drivers"
   ]
  },
  {
   "cell_type": "code",
   "execution_count": null,
   "id": "73cc70a8",
   "metadata": {
    "colab": {
     "base_uri": "https://localhost:8080/",
     "height": 0
    },
    "id": "73cc70a8",
    "outputId": "288db247-9eac-4608-d3b6-82719bd8ab0c"
   },
   "outputs": [],
   "source": [
    "ddata.head()"
   ]
  },
  {
   "cell_type": "code",
   "execution_count": null,
   "id": "b417e508",
   "metadata": {
    "colab": {
     "base_uri": "https://localhost:8080/",
     "height": 0
    },
    "id": "b417e508",
    "outputId": "8f5507e7-1c46-47bd-aa4d-aec8dda0ce48"
   },
   "outputs": [],
   "source": [
    "ddata.describe()"
   ]
  },
  {
   "cell_type": "code",
   "execution_count": null,
   "id": "41814d31",
   "metadata": {
    "colab": {
     "base_uri": "https://localhost:8080/",
     "height": 0
    },
    "id": "41814d31",
    "outputId": "39b52ec4-6bca-4d3f-a312-afaf61d93797"
   },
   "outputs": [],
   "source": [
    "ddata[ddata['age']>100].describe()"
   ]
  },
  {
   "cell_type": "markdown",
   "id": "047bce6d",
   "metadata": {
    "id": "047bce6d"
   },
   "source": [
    "We can see that the age in a number of policies is greater than 100. This data is mostly inaccurate and since there is only a small number of data points with this inaccuracy, these can be removed"
   ]
  },
  {
   "cell_type": "code",
   "execution_count": null,
   "id": "860165c2",
   "metadata": {
    "id": "860165c2"
   },
   "outputs": [],
   "source": [
    "ddata = ddata.drop(ddata[ddata['age'] > 100].index)"
   ]
  },
  {
   "cell_type": "code",
   "execution_count": null,
   "id": "f947f11f",
   "metadata": {
    "colab": {
     "base_uri": "https://localhost:8080/"
    },
    "id": "f947f11f",
    "outputId": "e47ee8ff-f15b-4b38-e091-66c803f75a7d"
   },
   "outputs": [],
   "source": [
    "ddata['age'].describe()"
   ]
  },
  {
   "cell_type": "markdown",
   "id": "8f3f3530",
   "metadata": {
    "id": "8f3f3530"
   },
   "source": [
    "We can group the age into bins to make it a categorical variable"
   ]
  },
  {
   "cell_type": "code",
   "execution_count": null,
   "id": "7fc97b00",
   "metadata": {
    "colab": {
     "base_uri": "https://localhost:8080/",
     "height": 0
    },
    "id": "7fc97b00",
    "outputId": "b5dad9b3-0c3d-41fa-85a6-e01dc82424b4"
   },
   "outputs": [],
   "source": [
    "bins = [0,25,35,45,55,65,101]\n",
    "labels = ['15-25','26-35','36-45','46-55','56-65','65+']\n",
    "ddata['Age Group'] = pd.cut(ddata['age'], bins = bins, labels = labels)\n",
    "ddata.head()"
   ]
  },
  {
   "cell_type": "code",
   "execution_count": null,
   "id": "66caced9",
   "metadata": {
    "colab": {
     "base_uri": "https://localhost:8080/",
     "height": 0
    },
    "id": "66caced9",
    "outputId": "d80a4bdd-bb39-4471-933d-fbf148547a30"
   },
   "outputs": [],
   "source": [
    "ddata = pd.get_dummies(ddata, columns = ['gender', 'living_status', 'Age Group' ,'high_education_ind'])\n",
    "ddata.head()"
   ]
  },
  {
   "cell_type": "code",
   "execution_count": null,
   "id": "63a2d188",
   "metadata": {
    "colab": {
     "base_uri": "https://localhost:8080/",
     "height": 0
    },
    "id": "63a2d188",
    "outputId": "f6044f6e-a3a9-4e01-94e9-4d130bd4f16d"
   },
   "outputs": [],
   "source": [
    "ddata.head()"
   ]
  },
  {
   "cell_type": "code",
   "execution_count": null,
   "id": "53ef7bf1",
   "metadata": {
    "colab": {
     "base_uri": "https://localhost:8080/"
    },
    "id": "53ef7bf1",
    "outputId": "f20ba163-bdf8-4482-c915-9d3294c07242"
   },
   "outputs": [],
   "source": [
    "bool_cols1 = [col for col in ddata \n",
    "             if np.isin(ddata[col].dropna().unique(), [0, 1]).all()]\n",
    "bool_cols1"
   ]
  },
  {
   "cell_type": "code",
   "execution_count": null,
   "id": "ea1d4968",
   "metadata": {
    "colab": {
     "base_uri": "https://localhost:8080/",
     "height": 0
    },
    "id": "ea1d4968",
    "outputId": "2cee15eb-81d3-4aae-a642-563822c3d33c"
   },
   "outputs": [],
   "source": [
    "ddata['safety_min'] = ddata['safty_rating']\n",
    "ddata['safety_max'] = ddata['safty_rating']\n",
    "d1 = {'safty_rating':'mean'}\n",
    "d2 = {'safety_min':'min'}\n",
    "d3 = {'safety_max':'max'}\n",
    "d4 = dict.fromkeys(bool_cols1, 'sum')\n",
    "\n",
    "d = {**d1, **d2, **d3, **d4}\n",
    "dddata = ddata.groupby('policy_id', as_index=False).agg(d)\n",
    "dddata.head()"
   ]
  },
  {
   "cell_type": "code",
   "execution_count": null,
   "id": "b15bacf5",
   "metadata": {
    "colab": {
     "base_uri": "https://localhost:8080/",
     "height": 0
    },
    "id": "b15bacf5",
    "outputId": "4bf044b1-262a-4627-9e80-8101cb8070e3"
   },
   "outputs": [],
   "source": [
    "df_policy = pd.merge(left = data_veh, right = dddata, how = 'inner', on = 'policy_id')\n",
    "df_policy.head()"
   ]
  },
  {
   "cell_type": "code",
   "execution_count": null,
   "id": "0f9ec64e",
   "metadata": {
    "id": "0f9ec64e"
   },
   "outputs": [],
   "source": [
    "df_policy.to_csv('policy_merged.csv')"
   ]
  },
  {
   "cell_type": "markdown",
   "id": "b03e0eb2",
   "metadata": {
    "id": "b03e0eb2"
   },
   "source": [
    "# Data cleaning on merged dataset"
   ]
  },
  {
   "cell_type": "code",
   "execution_count": null,
   "id": "50c68a3c",
   "metadata": {
    "id": "50c68a3c"
   },
   "outputs": [],
   "source": [
    "df_policy['county_name'] = np.where((df_policy['county_name'] == 'New York')|(df_policy['county_name'] =='Kings'), df_policy['county_name'], 0)"
   ]
  },
  {
   "cell_type": "code",
   "execution_count": null,
   "id": "58a3f968",
   "metadata": {
    "colab": {
     "base_uri": "https://localhost:8080/"
    },
    "id": "58a3f968",
    "outputId": "6b2f9bb9-6cbd-42f1-9b76-b2bfcda16ff4"
   },
   "outputs": [],
   "source": [
    "df_policy['county_name'].value_counts()"
   ]
  },
  {
   "cell_type": "code",
   "execution_count": null,
   "id": "9f70a346",
   "metadata": {
    "id": "9f70a346"
   },
   "outputs": [],
   "source": [
    "df_policy['Prior_carrier_grp'] = np.where((df_policy['Prior_carrier_grp'] == 'Carrier_3')|(df_policy['Prior_carrier_grp'] =='Carrier_7')|(df_policy['Prior_carrier_grp'] =='Carrier_8'), df_policy['Prior_carrier_grp'], 0)"
   ]
  },
  {
   "cell_type": "code",
   "execution_count": null,
   "id": "c2b9b670",
   "metadata": {
    "colab": {
     "base_uri": "https://localhost:8080/"
    },
    "id": "c2b9b670",
    "outputId": "fed2e5fa-1996-48b4-d7f8-eea8906dce7f"
   },
   "outputs": [],
   "source": [
    "df_policy['Prior_carrier_grp'].value_counts()"
   ]
  },
  {
   "cell_type": "code",
   "execution_count": null,
   "id": "82d7ce38",
   "metadata": {
    "colab": {
     "base_uri": "https://localhost:8080/"
    },
    "id": "82d7ce38",
    "outputId": "f80699fe-1445-4294-f1eb-08c9c07a7aed"
   },
   "outputs": [],
   "source": [
    "df_policy.columns"
   ]
  },
  {
   "cell_type": "code",
   "execution_count": null,
   "id": "4d1e248c",
   "metadata": {
    "id": "4d1e248c"
   },
   "outputs": [],
   "source": [
    "df_policy.drop(['make_ACURA ', 'make_BUICK ', 'make_CADILLAC ', 'make_CHRYSLER ', 'make_DODGE ','make_FORD ', 'make_GMC ','make_MAZDA ',\n",
    "                'make_NISSAN ','make_RAM ','make_SATURN ','make_SMART ','make_SUBARU ','make_TOYOTA '], axis = 1, inplace = True)"
   ]
  },
  {
   "cell_type": "code",
   "execution_count": null,
   "id": "fa13d27c",
   "metadata": {
    "colab": {
     "base_uri": "https://localhost:8080/"
    },
    "id": "fa13d27c",
    "outputId": "50cbad20-15e2-42eb-82fe-de7cc5b114b1"
   },
   "outputs": [],
   "source": [
    "df_policy.columns"
   ]
  },
  {
   "cell_type": "code",
   "execution_count": null,
   "id": "8b6ae597",
   "metadata": {
    "colab": {
     "base_uri": "https://localhost:8080/",
     "height": 382
    },
    "id": "8b6ae597",
    "outputId": "b253377c-4ab5-4cae-f07f-c6f152f5946b"
   },
   "outputs": [],
   "source": [
    "df_policy.describe()"
   ]
  },
  {
   "cell_type": "markdown",
   "id": "bc10da7a",
   "metadata": {
    "id": "bc10da7a"
   },
   "source": [
    "Safety rating has negative values and that most probably will have to be cleaned."
   ]
  },
  {
   "cell_type": "code",
   "execution_count": null,
   "id": "44933ced",
   "metadata": {
    "colab": {
     "base_uri": "https://localhost:8080/"
    },
    "id": "44933ced",
    "outputId": "91942ef1-2e39-4e9e-edaa-a8235bbd8a04"
   },
   "outputs": [],
   "source": [
    "df_policy.isna().sum()"
   ]
  },
  {
   "cell_type": "code",
   "execution_count": null,
   "id": "bc5d04b4",
   "metadata": {
    "colab": {
     "base_uri": "https://localhost:8080/"
    },
    "id": "bc5d04b4",
    "outputId": "5e85d32f-9c33-48a8-c4a9-65e215221590"
   },
   "outputs": [],
   "source": [
    "df_policy['state_id'].unique()"
   ]
  },
  {
   "cell_type": "code",
   "execution_count": null,
   "id": "5c1b5f6a",
   "metadata": {
    "colab": {
     "base_uri": "https://localhost:8080/"
    },
    "id": "5c1b5f6a",
    "outputId": "440a0b91-2af0-47a4-b3da-6ba41b227043"
   },
   "outputs": [],
   "source": [
    "df_policy['zip'].max()"
   ]
  },
  {
   "cell_type": "code",
   "execution_count": null,
   "id": "3775905d",
   "metadata": {
    "colab": {
     "base_uri": "https://localhost:8080/"
    },
    "id": "3775905d",
    "outputId": "950d214b-471f-490e-cc9a-dd3d08c4931a"
   },
   "outputs": [],
   "source": [
    "df_policy['zip'].min()"
   ]
  },
  {
   "cell_type": "code",
   "execution_count": null,
   "id": "eda8369a",
   "metadata": {
    "colab": {
     "base_uri": "https://localhost:8080/"
    },
    "id": "eda8369a",
    "outputId": "2a132b32-8e48-4952-c487-b450a413296c"
   },
   "outputs": [],
   "source": [
    "len(df_policy['Agent_cd'].unique())"
   ]
  },
  {
   "cell_type": "code",
   "execution_count": null,
   "id": "44ddbbcb",
   "metadata": {
    "colab": {
     "base_uri": "https://localhost:8080/"
    },
    "id": "44ddbbcb",
    "outputId": "7d427493-99fe-4540-8a27-dbc498b2c319"
   },
   "outputs": [],
   "source": [
    "df_policy['convert_ind'].value_counts(normalize = True)"
   ]
  },
  {
   "cell_type": "code",
   "execution_count": null,
   "id": "9c978b1a",
   "metadata": {
    "colab": {
     "base_uri": "https://localhost:8080/"
    },
    "id": "9c978b1a",
    "outputId": "b34520c7-f3b7-4ce8-8e1c-2f09ba69a0f5"
   },
   "outputs": [],
   "source": [
    "df_policy['county_name'].value_counts()"
   ]
  },
  {
   "cell_type": "code",
   "execution_count": null,
   "id": "48c8dfea",
   "metadata": {
    "colab": {
     "base_uri": "https://localhost:8080/"
    },
    "id": "48c8dfea",
    "outputId": "6fc590b6-c505-4f1b-df9a-d62a40d17d4e"
   },
   "outputs": [],
   "source": [
    "df_policy['quoted_amt'].head()"
   ]
  },
  {
   "cell_type": "code",
   "execution_count": null,
   "id": "e7373a0b",
   "metadata": {
    "colab": {
     "base_uri": "https://localhost:8080/"
    },
    "id": "e7373a0b",
    "outputId": "cb25548f-69bb-4132-82a6-ac9710b65dc4"
   },
   "outputs": [],
   "source": [
    "df_policy['quote'] = df_policy['quoted_amt'].str.replace(',','')\n",
    "df_policy['quote'] = df_policy['quote'].str.replace('$','')\n",
    "df_policy['quote'] = pd.to_numeric(df_policy['quote'], errors='coerce')\n",
    "df_policy['quote'].dtype\n"
   ]
  },
  {
   "cell_type": "code",
   "execution_count": null,
   "id": "0323da84",
   "metadata": {
    "colab": {
     "base_uri": "https://localhost:8080/"
    },
    "id": "0323da84",
    "outputId": "2ca45e0a-8e46-4df5-e6af-0ecc2e2891ae"
   },
   "outputs": [],
   "source": [
    "df_policy['quote'].describe()"
   ]
  },
  {
   "cell_type": "code",
   "execution_count": null,
   "id": "8cd4e9a5",
   "metadata": {
    "colab": {
     "base_uri": "https://localhost:8080/",
     "height": 456
    },
    "id": "8cd4e9a5",
    "outputId": "e773b5c3-8a3c-4b6e-ec2c-3c9f1231c001"
   },
   "outputs": [],
   "source": [
    "plt.hist(df_policy['quote'], bins = 20)"
   ]
  },
  {
   "cell_type": "code",
   "execution_count": null,
   "id": "79c3aa60",
   "metadata": {
    "colab": {
     "base_uri": "https://localhost:8080/"
    },
    "id": "79c3aa60",
    "outputId": "85fd8c76-6e55-4876-dcc4-2001d28ba745"
   },
   "outputs": [],
   "source": [
    "df_policy['quote'].quantile(np.linspace(.1,1,9,0))"
   ]
  },
  {
   "cell_type": "code",
   "execution_count": null,
   "id": "949cadfb",
   "metadata": {
    "colab": {
     "base_uri": "https://localhost:8080/",
     "height": 566
    },
    "id": "949cadfb",
    "outputId": "6684ecc9-273e-4c77-d6ac-35245f092f93"
   },
   "outputs": [],
   "source": [
    "bins = [0,2500,5000,7500,10000,200000]\n",
    "labels = ['Very Low','Low','Medium','High','Very High']\n",
    "df_policy['quote_range'] = pd.cut(df_policy['quote'], bins = bins, labels = labels)\n",
    "df_policy.head(10)"
   ]
  },
  {
   "cell_type": "code",
   "execution_count": null,
   "id": "fcb75056",
   "metadata": {
    "colab": {
     "base_uri": "https://localhost:8080/"
    },
    "id": "fcb75056",
    "outputId": "4de0c56d-6010-434c-b68e-1081402b75fb"
   },
   "outputs": [],
   "source": [
    "df_policy['quote_range'].value_counts()"
   ]
  },
  {
   "cell_type": "code",
   "execution_count": null,
   "id": "f96689a5",
   "metadata": {
    "colab": {
     "base_uri": "https://localhost:8080/",
     "height": 237
    },
    "id": "f96689a5",
    "outputId": "a9cea3ea-a950-4f07-c5cd-32cb8f4f1fb8"
   },
   "outputs": [],
   "source": [
    "pd.crosstab(df_policy['quote_range'], df_policy['convert_ind'], normalize='index') * 100"
   ]
  },
  {
   "cell_type": "code",
   "execution_count": null,
   "id": "dd676da6",
   "metadata": {
    "colab": {
     "base_uri": "https://localhost:8080/",
     "height": 439
    },
    "id": "dd676da6",
    "outputId": "0a92d923-9517-4f8b-bea8-dfdb13a02de8"
   },
   "outputs": [],
   "source": [
    "plt.hist(np.log(df_policy['quote']), bins = 20)"
   ]
  },
  {
   "cell_type": "code",
   "execution_count": null,
   "id": "11960651",
   "metadata": {
    "id": "11960651"
   },
   "outputs": [],
   "source": [
    "df_policy['log_quote'] = np.log(df_policy['quote'])"
   ]
  },
  {
   "cell_type": "code",
   "execution_count": null,
   "id": "7b66a749",
   "metadata": {
    "colab": {
     "base_uri": "https://localhost:8080/"
    },
    "id": "7b66a749",
    "outputId": "eca9ead8-9283-4b23-9812-a7be618e792a"
   },
   "outputs": [],
   "source": [
    "df_policy['Prior_carrier_grp'].value_counts()"
   ]
  },
  {
   "cell_type": "code",
   "execution_count": null,
   "id": "739faf59",
   "metadata": {
    "colab": {
     "base_uri": "https://localhost:8080/"
    },
    "id": "739faf59",
    "outputId": "c3baebbf-cc27-47e7-accb-42868d557a30"
   },
   "outputs": [],
   "source": [
    "df_policy['Cov_package_type'].value_counts()"
   ]
  },
  {
   "cell_type": "code",
   "execution_count": null,
   "id": "324d0b7c",
   "metadata": {
    "colab": {
     "base_uri": "https://localhost:8080/"
    },
    "id": "324d0b7c",
    "outputId": "d3622fd5-df6d-4fb8-f603-47fb1cc64dc6"
   },
   "outputs": [],
   "source": [
    "df_policy['CAT_zone'].value_counts()"
   ]
  },
  {
   "cell_type": "code",
   "execution_count": null,
   "id": "9840a393",
   "metadata": {
    "id": "9840a393"
   },
   "outputs": [],
   "source": [
    "df_policy['total_drivers'] = df_policy['gender_F']+df_policy['gender_M']"
   ]
  },
  {
   "cell_type": "code",
   "execution_count": null,
   "id": "7d0936e8",
   "metadata": {
    "colab": {
     "base_uri": "https://localhost:8080/"
    },
    "id": "7d0936e8",
    "outputId": "2d9e738d-6fbb-4b04-a90b-df32d1111453"
   },
   "outputs": [],
   "source": [
    "len(df_policy[df_policy['number_drivers'] == df_policy['total_drivers']])"
   ]
  },
  {
   "cell_type": "code",
   "execution_count": null,
   "id": "d6d237b2",
   "metadata": {
    "id": "d6d237b2"
   },
   "outputs": [],
   "source": [
    "df_policy.drop(df_policy[df_policy['number_drivers'] != df_policy['total_drivers']].index, axis = 0, inplace = True)"
   ]
  },
  {
   "cell_type": "code",
   "execution_count": null,
   "id": "85dd8383",
   "metadata": {
    "colab": {
     "base_uri": "https://localhost:8080/"
    },
    "id": "85dd8383",
    "outputId": "59532408-841d-4a07-ac46-caf69d28dfe7"
   },
   "outputs": [],
   "source": [
    "len(df_policy)"
   ]
  },
  {
   "cell_type": "code",
   "execution_count": null,
   "id": "3a3b56e6",
   "metadata": {
    "colab": {
     "base_uri": "https://localhost:8080/"
    },
    "id": "3a3b56e6",
    "outputId": "7f85344a-7d84-43eb-d30c-5f68241edcfe"
   },
   "outputs": [],
   "source": [
    "len(df_policy[df_policy['number_drivers'] == df_policy['total_drivers']])"
   ]
  },
  {
   "cell_type": "code",
   "execution_count": null,
   "id": "1b2fc2ec",
   "metadata": {
    "colab": {
     "base_uri": "https://localhost:8080/"
    },
    "id": "1b2fc2ec",
    "outputId": "6089491a-37e2-4141-d29d-49589a56d35e"
   },
   "outputs": [],
   "source": [
    "df_policy['primary_parking'].value_counts()"
   ]
  },
  {
   "cell_type": "code",
   "execution_count": null,
   "id": "7faf4e17",
   "metadata": {
    "colab": {
     "base_uri": "https://localhost:8080/"
    },
    "id": "7faf4e17",
    "outputId": "5dc84fdd-6071-4cc4-fc43-baa1f0d6a498"
   },
   "outputs": [],
   "source": [
    "df_policy['gender_F'].sum()"
   ]
  },
  {
   "cell_type": "code",
   "execution_count": null,
   "id": "18de8a5b",
   "metadata": {
    "colab": {
     "base_uri": "https://localhost:8080/"
    },
    "id": "18de8a5b",
    "outputId": "2b58495a-dc53-48f1-d612-d27d3df01b6b"
   },
   "outputs": [],
   "source": [
    "df_policy['gender_M'].sum()"
   ]
  },
  {
   "cell_type": "code",
   "execution_count": null,
   "id": "74002c57",
   "metadata": {
    "colab": {
     "base_uri": "https://localhost:8080/"
    },
    "id": "74002c57",
    "outputId": "f6dd9170-e516-4841-a40e-6a31dd8bf7b7"
   },
   "outputs": [],
   "source": [
    "df_policy['credit_score'].max()"
   ]
  },
  {
   "cell_type": "code",
   "execution_count": null,
   "id": "b4994ffc",
   "metadata": {
    "colab": {
     "base_uri": "https://localhost:8080/",
     "height": 352
    },
    "id": "b4994ffc",
    "outputId": "f1d1b1aa-cecb-4903-db44-5187269d9685"
   },
   "outputs": [],
   "source": [
    "plt.hist(df_policy['safty_rating'],bins=10)"
   ]
  },
  {
   "cell_type": "code",
   "execution_count": null,
   "id": "e18a6d7c",
   "metadata": {
    "colab": {
     "base_uri": "https://localhost:8080/"
    },
    "id": "e18a6d7c",
    "outputId": "ad271aa4-f53f-4332-d6cf-65441a180c73"
   },
   "outputs": [],
   "source": [
    "df_policy['safty_rating'].quantile(np.linspace(.2,1,4,0))"
   ]
  },
  {
   "cell_type": "markdown",
   "id": "ce932c8b",
   "metadata": {
    "id": "ce932c8b"
   },
   "source": [
    "Safety rating attribute is divided into 5 categories approximated from the distribution of safety ratings"
   ]
  },
  {
   "cell_type": "code",
   "execution_count": null,
   "id": "b0d5ac9f",
   "metadata": {
    "colab": {
     "base_uri": "https://localhost:8080/",
     "height": 566
    },
    "id": "b0d5ac9f",
    "outputId": "6a7b093c-eead-4c3d-b078-71dbf546f889"
   },
   "outputs": [],
   "source": [
    "bins = [0,59,69,79,89,100]\n",
    "labels = ['Very Low','Low','Medium','High','Very High']\n",
    "df_policy['safety_rating'] = pd.cut(df_policy['safty_rating'], bins = bins, labels = labels)\n",
    "df_policy.head(10)"
   ]
  },
  {
   "cell_type": "code",
   "execution_count": null,
   "id": "28e68ab3",
   "metadata": {
    "colab": {
     "base_uri": "https://localhost:8080/"
    },
    "id": "28e68ab3",
    "outputId": "e8de3ad3-d653-4a59-d9f7-cec70e1342ff"
   },
   "outputs": [],
   "source": [
    "df_policy['safety_rating'].value_counts()"
   ]
  },
  {
   "cell_type": "code",
   "execution_count": null,
   "id": "5b397a8c",
   "metadata": {
    "colab": {
     "base_uri": "https://localhost:8080/",
     "height": 589
    },
    "id": "5b397a8c",
    "outputId": "06446455-c9c2-4528-ae80-efd1172acea7"
   },
   "outputs": [],
   "source": [
    "fig, ax = plt.subplots(figsize = (15,6))\n",
    "sns.countplot(x='safety_rating', hue='convert_ind', data=df_policy, palette = ['Red','limegreen'])\n",
    "ax.bar_label(container=ax.containers[0])\n",
    "ax.bar_label(container=ax.containers[1])"
   ]
  },
  {
   "cell_type": "code",
   "execution_count": null,
   "id": "810bd9ca",
   "metadata": {
    "colab": {
     "base_uri": "https://localhost:8080/",
     "height": 237
    },
    "id": "810bd9ca",
    "outputId": "5964d478-0f5d-4d5b-c84f-a561c869aea6"
   },
   "outputs": [],
   "source": [
    "pd.crosstab(df_policy['safety_rating'], df_policy['convert_ind'], normalize='index') * 100"
   ]
  },
  {
   "cell_type": "code",
   "execution_count": null,
   "id": "5fd26c5a",
   "metadata": {
    "colab": {
     "base_uri": "https://localhost:8080/",
     "height": 592
    },
    "id": "5fd26c5a",
    "outputId": "d00de382-4df3-48fd-dcc4-1cea15ba79f0"
   },
   "outputs": [],
   "source": [
    "fig, (ax1,ax2) = plt.subplots(1,2, figsize = (15,6))\n",
    "sns.barplot(x=df_policy[df_policy['convert_ind']==1]['safety_rating'].value_counts().index, y = df_policy[df_policy['convert_ind']==1]['safety_rating'].value_counts(normalize = True).values, ax = ax1, palette = 'Set1')\n",
    "sns.barplot(x=df_policy[df_policy['convert_ind']==0]['safety_rating'].value_counts().index, y = df_policy[df_policy['convert_ind']==0]['safety_rating'].value_counts(normalize = True).values, ax = ax2, palette = 'Set1')\n",
    "\n",
    "ax1.bar_label(container=ax1.containers[0])\n",
    "ax2.bar_label(container=ax2.containers[0])"
   ]
  },
  {
   "cell_type": "code",
   "execution_count": null,
   "id": "f962a2d0",
   "metadata": {
    "colab": {
     "base_uri": "https://localhost:8080/",
     "height": 352
    },
    "id": "f962a2d0",
    "outputId": "c607cedc-dbf1-4ebe-8e63-978a8092f13b"
   },
   "outputs": [],
   "source": [
    "plt.hist(df_policy['credit_score'],bins=10)"
   ]
  },
  {
   "cell_type": "code",
   "execution_count": null,
   "id": "44a2ba92",
   "metadata": {
    "colab": {
     "base_uri": "https://localhost:8080/"
    },
    "id": "44a2ba92",
    "outputId": "f02a7012-13ae-41e7-ec62-b50f41319bb0"
   },
   "outputs": [],
   "source": [
    "df_policy['credit_score'].quantile(np.linspace(.33,1,2,0))"
   ]
  },
  {
   "cell_type": "code",
   "execution_count": null,
   "id": "a1dea75c",
   "metadata": {
    "id": "a1dea75c"
   },
   "outputs": [],
   "source": [
    "bins = [0,500,600,700,800,850]\n",
    "labels = ['Very Low','Low','Medium','High','Very High']\n",
    "df_policy['credit_score_range'] = pd.cut(df_policy['credit_score'], bins = bins, labels = labels)"
   ]
  },
  {
   "cell_type": "code",
   "execution_count": null,
   "id": "013c42c1",
   "metadata": {
    "colab": {
     "base_uri": "https://localhost:8080/"
    },
    "id": "013c42c1",
    "outputId": "36027fca-ecc1-4113-c43d-afbe180547fa"
   },
   "outputs": [],
   "source": [
    "df_policy['credit_score_range'].value_counts()"
   ]
  },
  {
   "cell_type": "code",
   "execution_count": null,
   "id": "d91f8496",
   "metadata": {
    "colab": {
     "base_uri": "https://localhost:8080/",
     "height": 237
    },
    "id": "d91f8496",
    "outputId": "e385ac7a-b735-4b0c-c97e-562392713d1d"
   },
   "outputs": [],
   "source": [
    "pd.crosstab(df_policy['credit_score_range'], df_policy['convert_ind'], normalize='index') * 100"
   ]
  },
  {
   "cell_type": "code",
   "execution_count": null,
   "id": "ef479d9a",
   "metadata": {
    "id": "ef479d9a"
   },
   "outputs": [],
   "source": [
    "sns.countplot(x='credit_score_range', hue='convert_ind', data=df_policy, palette = ['Red','limegreen'])"
   ]
  },
  {
   "cell_type": "code",
   "execution_count": null,
   "id": "834c00f1",
   "metadata": {
    "colab": {
     "base_uri": "https://localhost:8080/",
     "height": 592
    },
    "id": "834c00f1",
    "outputId": "5dfe752a-8088-45ae-a165-e6a858213877"
   },
   "outputs": [],
   "source": [
    "fig, (ax1,ax2) = plt.subplots(1,2, figsize = (15,6))\n",
    "sns.barplot(x=df_policy[df_policy['convert_ind']==1]['credit_score_range'].value_counts().index, y = df_policy[df_policy['convert_ind']==1]['credit_score_range'].value_counts(normalize = True).values, ax = ax1, palette = 'Set1')\n",
    "sns.barplot(x=df_policy[df_policy['convert_ind']==0]['credit_score_range'].value_counts().index, y = df_policy[df_policy['convert_ind']==0]['credit_score_range'].value_counts(normalize = True).values, ax = ax2, palette = 'Set1')\n",
    "\n",
    "ax1.bar_label(container=ax1.containers[0])\n",
    "ax2.bar_label(container=ax2.containers[0])"
   ]
  },
  {
   "cell_type": "code",
   "execution_count": null,
   "id": "7292a849",
   "metadata": {
    "colab": {
     "base_uri": "https://localhost:8080/",
     "height": 406
    },
    "id": "7292a849",
    "outputId": "e351ce44-8661-40f7-8be8-4383aa8e7067"
   },
   "outputs": [],
   "source": [
    "fig, (ax1,ax2) = plt.subplots(1,2, figsize = (15,6))\n",
    "\n",
    "sns.boxplot(x='convert_ind', y='credit_score', data=df_policy, palette = ['Red','limegreen'], ax = ax1)\n",
    "sns.boxplot(x='convert_ind', y='age', data=df_policy, palette = ['Red','limegreen'], ax = ax2)\n",
    "ax2.set_ylabel('age_of_cars')"
   ]
  },
  {
   "cell_type": "code",
   "execution_count": null,
   "id": "999f289b",
   "metadata": {
    "colab": {
     "base_uri": "https://localhost:8080/",
     "height": 406
    },
    "id": "999f289b",
    "outputId": "afaf922a-b469-4ec0-c770-c90bd37bfbd4"
   },
   "outputs": [],
   "source": [
    "fig, (ax1,ax2) = plt.subplots(1,2, figsize = (15,6))\n",
    "\n",
    "sns.boxplot(x='convert_ind', y='age_min', data=df_policy, palette = ['Red','limegreen'], ax = ax1)\n",
    "sns.boxplot(x='convert_ind', y='age_max', data=df_policy, palette = ['Red','limegreen'], ax = ax2)\n",
    "ax1.set_ylabel('min_age_of_cars')\n",
    "ax2.set_ylabel('max_age_of_cars')"
   ]
  },
  {
   "cell_type": "code",
   "execution_count": null,
   "id": "c9e47831",
   "metadata": {
    "colab": {
     "base_uri": "https://localhost:8080/",
     "height": 441
    },
    "id": "c9e47831",
    "outputId": "465f05f1-b411-4e2e-b52d-6578ee3cab0a"
   },
   "outputs": [],
   "source": [
    "fig, (ax1,ax2) = plt.subplots(1,2, figsize = (15,6))\n",
    "sns.countplot(x='state_id', hue='convert_ind', data=df_policy, ax = ax1, palette = ['Red','limegreen'])\n",
    "sns.countplot(x='Prior_carrier_grp', hue='convert_ind', data=df_policy, ax = ax2, palette = ['Red','limegreen'])\n",
    "fig.tight_layout()"
   ]
  },
  {
   "cell_type": "code",
   "execution_count": null,
   "id": "46c19f3d",
   "metadata": {
    "colab": {
     "base_uri": "https://localhost:8080/",
     "height": 332
    },
    "id": "46c19f3d",
    "outputId": "b3883874-13b8-4805-8f43-cd9445f4c490"
   },
   "outputs": [],
   "source": [
    "pd.crosstab(df_policy['state_id'], df_policy['convert_ind'], normalize='index') * 100"
   ]
  },
  {
   "cell_type": "code",
   "execution_count": null,
   "id": "360971c1",
   "metadata": {
    "colab": {
     "base_uri": "https://localhost:8080/",
     "height": 206
    },
    "id": "360971c1",
    "outputId": "8a2d119c-2aa8-494d-b990-b6ef9c1df0df"
   },
   "outputs": [],
   "source": [
    "pd.crosstab(df_policy['Prior_carrier_grp'], df_policy['convert_ind'], normalize='index') * 100"
   ]
  },
  {
   "cell_type": "code",
   "execution_count": null,
   "id": "82a60d8a",
   "metadata": {
    "colab": {
     "base_uri": "https://localhost:8080/",
     "height": 441
    },
    "id": "82a60d8a",
    "outputId": "2d9c9731-8d08-438b-90ee-eb1faadaecad"
   },
   "outputs": [],
   "source": [
    "fig, (ax1,ax2) = plt.subplots(1,2, figsize = (15,6))\n",
    "sns.countplot(x='Cov_package_type', hue='convert_ind', data=df_policy, ax = ax1, palette = ['Red','limegreen'])\n",
    "sns.countplot(x='CAT_zone', hue='convert_ind', data=df_policy, ax = ax2, palette = ['Red','limegreen'])\n",
    "fig.tight_layout()"
   ]
  },
  {
   "cell_type": "code",
   "execution_count": null,
   "id": "854fc6d1",
   "metadata": {
    "colab": {
     "base_uri": "https://localhost:8080/",
     "height": 175
    },
    "id": "854fc6d1",
    "outputId": "6705a6aa-0739-4e73-827c-96cdb6169cbf"
   },
   "outputs": [],
   "source": [
    "pd.crosstab(df_policy['Cov_package_type'], df_policy['convert_ind'], normalize='index') * 100"
   ]
  },
  {
   "cell_type": "code",
   "execution_count": null,
   "id": "efb61b04",
   "metadata": {
    "colab": {
     "base_uri": "https://localhost:8080/",
     "height": 237
    },
    "id": "efb61b04",
    "outputId": "86811de7-1044-4e66-f59c-1188c07db64f"
   },
   "outputs": [],
   "source": [
    "pd.crosstab(df_policy['CAT_zone'], df_policy['convert_ind'], normalize='index') * 100"
   ]
  },
  {
   "cell_type": "code",
   "execution_count": null,
   "id": "08b5740a",
   "metadata": {
    "colab": {
     "base_uri": "https://localhost:8080/",
     "height": 441
    },
    "id": "08b5740a",
    "outputId": "bae6d0f4-622e-47fc-e7d6-be3ee3f47caf"
   },
   "outputs": [],
   "source": [
    "fig, (ax1,ax2) = plt.subplots(1,2, figsize = (15,6))\n",
    "sns.countplot(x='number_drivers', hue='convert_ind', data=df_policy, ax = ax1, palette = ['Red','limegreen'])\n",
    "sns.countplot(x='total_number_veh', hue='convert_ind', data=df_policy, ax = ax2, palette = ['Red','limegreen'])\n",
    "fig.tight_layout()"
   ]
  },
  {
   "cell_type": "code",
   "execution_count": null,
   "id": "55ced076",
   "metadata": {
    "colab": {
     "base_uri": "https://localhost:8080/",
     "height": 269
    },
    "id": "55ced076",
    "outputId": "8a3b63e3-d219-43d9-c327-c25cb0009a7a"
   },
   "outputs": [],
   "source": [
    "pd.crosstab(df_policy['number_drivers'], df_policy['convert_ind'], normalize='index') * 100"
   ]
  },
  {
   "cell_type": "code",
   "execution_count": null,
   "id": "847885b3",
   "metadata": {
    "colab": {
     "base_uri": "https://localhost:8080/",
     "height": 332
    },
    "id": "847885b3",
    "outputId": "990ac0a6-c03f-49bf-cd5c-1ecce32f6ccd"
   },
   "outputs": [],
   "source": [
    "pd.crosstab(df_policy['total_number_veh'], df_policy['convert_ind'], normalize='index') * 100"
   ]
  },
  {
   "cell_type": "code",
   "execution_count": null,
   "id": "e5602c1f",
   "metadata": {
    "colab": {
     "base_uri": "https://localhost:8080/",
     "height": 441
    },
    "id": "e5602c1f",
    "outputId": "5834660f-4a7d-43a3-f846-c87649948e2b"
   },
   "outputs": [],
   "source": [
    "fig, (ax1,ax2) = plt.subplots(1,2, figsize = (15,6))\n",
    "sns.countplot(x='primary_parking', hue='convert_ind', data=df_policy, ax = ax1, palette = ['Red','limegreen'])\n",
    "sns.countplot(x='car_no', hue='convert_ind', data=df_policy, ax = ax2, palette = ['Red','limegreen'])\n",
    "fig.tight_layout()"
   ]
  },
  {
   "cell_type": "code",
   "execution_count": null,
   "id": "f661f6b6",
   "metadata": {
    "colab": {
     "base_uri": "https://localhost:8080/",
     "height": 206
    },
    "id": "f661f6b6",
    "outputId": "cbe503e9-5f4c-407a-cd4e-58cb8e995d89"
   },
   "outputs": [],
   "source": [
    "pd.crosstab(df_policy['primary_parking'], df_policy['convert_ind'], normalize='index') * 100"
   ]
  },
  {
   "cell_type": "code",
   "execution_count": null,
   "id": "2a02c62d",
   "metadata": {
    "colab": {
     "base_uri": "https://localhost:8080/",
     "height": 332
    },
    "id": "2a02c62d",
    "outputId": "f63a3490-7f92-41ee-e1df-cf4290c77265"
   },
   "outputs": [],
   "source": [
    "pd.crosstab(df_policy['car_no'], df_policy['convert_ind'], normalize='index') * 100"
   ]
  },
  {
   "cell_type": "code",
   "execution_count": null,
   "id": "619c4d89",
   "metadata": {
    "colab": {
     "base_uri": "https://localhost:8080/"
    },
    "id": "619c4d89",
    "outputId": "b664689a-1a2f-47c7-fde4-a770410aa416"
   },
   "outputs": [],
   "source": [
    "df_policy.dtypes"
   ]
  },
  {
   "cell_type": "code",
   "execution_count": null,
   "id": "dbc92db8",
   "metadata": {
    "colab": {
     "base_uri": "https://localhost:8080/",
     "height": 505
    },
    "id": "dbc92db8",
    "outputId": "f7bb8798-831f-40c9-8d1a-10f7b8113c7f"
   },
   "outputs": [],
   "source": [
    "numerical = df_policy.select_dtypes(include=['int64','float64','Int64'])[:]\n",
    "numerical"
   ]
  },
  {
   "cell_type": "code",
   "execution_count": null,
   "id": "9bd57d37",
   "metadata": {
    "colab": {
     "base_uri": "https://localhost:8080/"
    },
    "id": "9bd57d37",
    "outputId": "3260159b-3fc6-4a5b-9171-66c4a84f3218"
   },
   "outputs": [],
   "source": [
    "numerical = numerical.drop([\"zip\",\"Agent_cd\"], axis = 1)\n",
    "numerical.dtypes"
   ]
  },
  {
   "cell_type": "code",
   "execution_count": null,
   "id": "41951ed1",
   "metadata": {
    "colab": {
     "base_uri": "https://localhost:8080/",
     "height": 695
    },
    "id": "41951ed1",
    "outputId": "7f3e4359-459c-4aa2-947d-4b53b4c5c5b7"
   },
   "outputs": [],
   "source": [
    "correlation = numerical.dropna().corr()\n",
    "correlation"
   ]
  },
  {
   "cell_type": "code",
   "execution_count": null,
   "id": "f7655a2e",
   "metadata": {
    "colab": {
     "base_uri": "https://localhost:8080/",
     "height": 907
    },
    "id": "f7655a2e",
    "outputId": "f9183fbd-9e85-4b95-e1c3-aef86ea6cacd"
   },
   "outputs": [],
   "source": [
    "# plotting heatmap usill all methods for all numerical variables\n",
    "plt.figure(figsize=(36,6), dpi=140)\n",
    "for j,i in enumerate(['pearson']):\n",
    "  plt.subplot(1,3,j+1)\n",
    "  correlation = numerical.dropna().corr(method=i)\n",
    "  sns.heatmap(correlation, linewidth = 2)\n",
    "  plt.title(i, fontsize=18)"
   ]
  },
  {
   "cell_type": "code",
   "execution_count": null,
   "id": "a3e00ac8",
   "metadata": {
    "colab": {
     "base_uri": "https://localhost:8080/"
    },
    "id": "a3e00ac8",
    "outputId": "fbb36e40-4ef1-4da4-b92d-a3c2af9fc09b"
   },
   "outputs": [],
   "source": [
    "c = correlation.abs()\n",
    "s = c.unstack()\n",
    "so = s.sort_values(ascending = False)\n",
    "so[so < 1][0:20]"
   ]
  },
  {
   "cell_type": "code",
   "execution_count": null,
   "id": "90c50677",
   "metadata": {
    "id": "90c50677"
   },
   "outputs": [],
   "source": []
  },
  {
   "cell_type": "code",
   "execution_count": null,
   "id": "28ba6145",
   "metadata": {
    "colab": {
     "base_uri": "https://localhost:8080/"
    },
    "id": "28ba6145",
    "outputId": "0c036470-298e-44fc-f2ab-66169262ae92"
   },
   "outputs": [],
   "source": [
    "df_policy.info()"
   ]
  },
  {
   "cell_type": "code",
   "execution_count": null,
   "id": "4a6813c9",
   "metadata": {
    "id": "4a6813c9"
   },
   "outputs": [],
   "source": [
    "df_policy.drop(['quoted_amt', 'total_drivers'], axis = 1, inplace = True)"
   ]
  },
  {
   "cell_type": "code",
   "execution_count": null,
   "id": "fc361b5b",
   "metadata": {
    "id": "fc361b5b"
   },
   "outputs": [],
   "source": [
    "df_policy['safety_range'] = df_policy['safety_max'] - df_policy['safety_min']\n",
    "df_policy['car_age_range'] = df_policy['age_max'] - df_policy['age_min']"
   ]
  },
  {
   "cell_type": "code",
   "execution_count": null,
   "id": "ip3d91QhgLAE",
   "metadata": {
    "id": "ip3d91QhgLAE"
   },
   "outputs": [],
   "source": []
  },
  {
   "cell_type": "code",
   "execution_count": null,
   "id": "b8d0f5be",
   "metadata": {
    "id": "b8d0f5be"
   },
   "outputs": [],
   "source": [
    "df_policy['Quote_dt'] = pd.to_datetime(df_policy['Quote_dt'])"
   ]
  },
  {
   "cell_type": "code",
   "execution_count": null,
   "id": "6daca8e3",
   "metadata": {
    "colab": {
     "base_uri": "https://localhost:8080/"
    },
    "id": "6daca8e3",
    "outputId": "e38e9401-3ffd-4817-b791-950c700a4c74"
   },
   "outputs": [],
   "source": [
    "df_policy['Quote_month'] = df_policy['Quote_dt'].dt.month\n",
    "df_policy['Quote_month'].value_counts()"
   ]
  },
  {
   "cell_type": "code",
   "execution_count": null,
   "id": "462b94e1",
   "metadata": {
    "colab": {
     "base_uri": "https://localhost:8080/",
     "height": 457
    },
    "id": "462b94e1",
    "outputId": "fcf32209-1142-49c1-c086-d9d7f7c192df"
   },
   "outputs": [],
   "source": [
    "pd.crosstab(df_policy['Quote_month'], df_policy['convert_ind'], normalize='index') * 100"
   ]
  },
  {
   "cell_type": "code",
   "execution_count": null,
   "id": "0c2ec71d",
   "metadata": {
    "colab": {
     "base_uri": "https://localhost:8080/"
    },
    "id": "0c2ec71d",
    "outputId": "1d19a9f3-355e-465d-98b1-71aa5fe241a6"
   },
   "outputs": [],
   "source": [
    "df_policy['Quote_quarter'] = df_policy['Quote_dt'].dt.quarter\n",
    "df_policy['Quote_quarter'].value_counts()"
   ]
  },
  {
   "cell_type": "code",
   "execution_count": null,
   "id": "779c0765",
   "metadata": {
    "colab": {
     "base_uri": "https://localhost:8080/",
     "height": 206
    },
    "id": "779c0765",
    "outputId": "76e7f76c-b9ca-49e7-d3db-7e4198d8359d"
   },
   "outputs": [],
   "source": [
    "pd.crosstab(df_policy['Quote_quarter'], df_policy['convert_ind'], normalize='index') * 100"
   ]
  },
  {
   "cell_type": "code",
   "execution_count": null,
   "id": "9fdd4f79",
   "metadata": {
    "colab": {
     "base_uri": "https://localhost:8080/",
     "height": 441
    },
    "id": "9fdd4f79",
    "outputId": "a2353369-61ce-4f49-beb3-5e10f176c990"
   },
   "outputs": [],
   "source": [
    "fig, (ax1,ax2) = plt.subplots(1,2, figsize = (15,6))\n",
    "sns.countplot(x='Quote_month', hue='convert_ind', data=df_policy, ax = ax1, palette = ['Red','limegreen'])\n",
    "sns.countplot(x='Quote_quarter', hue='convert_ind', data=df_policy, ax = ax2, palette = ['Red','limegreen'])\n",
    "fig.tight_layout()"
   ]
  },
  {
   "cell_type": "code",
   "execution_count": null,
   "id": "a74efe70",
   "metadata": {
    "colab": {
     "base_uri": "https://localhost:8080/"
    },
    "id": "a74efe70",
    "outputId": "f8d4b9e1-6dc9-41ff-fcce-e5bd5f53dce2"
   },
   "outputs": [],
   "source": [
    "df_policy['Quote_year'] = df_policy['Quote_dt'].dt.year\n",
    "df_policy['Quote_year'].value_counts()"
   ]
  },
  {
   "cell_type": "code",
   "execution_count": null,
   "id": "84ccbbb1",
   "metadata": {
    "colab": {
     "base_uri": "https://localhost:8080/",
     "height": 206
    },
    "id": "84ccbbb1",
    "outputId": "db619b91-884e-4448-ba02-d4382f59b289"
   },
   "outputs": [],
   "source": [
    "pd.crosstab(df_policy['Quote_year'], df_policy['convert_ind'], normalize='index') * 100"
   ]
  },
  {
   "cell_type": "code",
   "execution_count": null,
   "id": "b9359838",
   "metadata": {
    "colab": {
     "base_uri": "https://localhost:8080/",
     "height": 589
    },
    "id": "b9359838",
    "outputId": "044ef926-d1da-4234-86c2-7dea0b21d17e"
   },
   "outputs": [],
   "source": [
    "fig, ax = plt.subplots(figsize = (15,6))\n",
    "sns.countplot(x='Quote_year', hue='convert_ind', data=df_policy, palette = ['Red','limegreen'])\n",
    "ax.bar_label(container=ax.containers[0])\n",
    "ax.bar_label(container=ax.containers[1])"
   ]
  },
  {
   "cell_type": "markdown",
   "id": "cac50f79",
   "metadata": {
    "id": "cac50f79"
   },
   "source": [
    "# Modelling"
   ]
  },
  {
   "cell_type": "code",
   "execution_count": null,
   "id": "456acabf",
   "metadata": {
    "id": "456acabf"
   },
   "outputs": [],
   "source": [
    "x = df_policy"
   ]
  },
  {
   "cell_type": "code",
   "execution_count": null,
   "id": "00f2c4b8",
   "metadata": {
    "id": "00f2c4b8"
   },
   "outputs": [],
   "source": [
    "x.drop(['split', 'Unnamed: 0', 'Quote_dt', 'zip', 'Agent_cd', 'policy_id'], axis = 1, inplace=True)"
   ]
  },
  {
   "cell_type": "code",
   "execution_count": null,
   "id": "7d605806",
   "metadata": {
    "colab": {
     "base_uri": "https://localhost:8080/",
     "height": 305
    },
    "id": "7d605806",
    "outputId": "bdf909c6-b2c5-44e0-9c46-039c693a914a"
   },
   "outputs": [],
   "source": [
    "x.head()"
   ]
  },
  {
   "cell_type": "code",
   "execution_count": null,
   "id": "818c5800",
   "metadata": {
    "colab": {
     "base_uri": "https://localhost:8080/"
    },
    "id": "818c5800",
    "outputId": "d113d0f0-2917-4b02-b874-d55919a01547"
   },
   "outputs": [],
   "source": [
    "x.info()"
   ]
  },
  {
   "cell_type": "code",
   "execution_count": null,
   "id": "042c6307",
   "metadata": {
    "id": "042c6307"
   },
   "outputs": [],
   "source": [
    "x1 = pd.get_dummies(x, columns = ['state_id','Prior_carrier_grp', 'primary_parking', 'county_name' ])"
   ]
  },
  {
   "cell_type": "code",
   "execution_count": null,
   "id": "5933c25d",
   "metadata": {
    "colab": {
     "base_uri": "https://localhost:8080/",
     "height": 305
    },
    "id": "5933c25d",
    "outputId": "20dced5f-3417-4272-a992-bfbc1d223a47"
   },
   "outputs": [],
   "source": [
    "x1.head()"
   ]
  },
  {
   "cell_type": "code",
   "execution_count": null,
   "id": "45a6bb19",
   "metadata": {
    "id": "45a6bb19"
   },
   "outputs": [],
   "source": [
    "x1['discount'] = x1['discount'].astype('category')\n",
    "x1['Home_policy_ind'] = x1['Home_policy_ind'].astype('category')\n",
    "x1['Cov_package_type'] = x1['Cov_package_type'].astype('category')"
   ]
  },
  {
   "cell_type": "code",
   "execution_count": null,
   "id": "4d82af9a",
   "metadata": {
    "id": "4d82af9a"
   },
   "outputs": [],
   "source": [
    "x1['credit_score_range'] = x1['credit_score_range'].cat.codes\n",
    "x1['Home_policy_ind'] = x1['Home_policy_ind'].cat.codes\n",
    "x1['Cov_package_type'] = x1['Cov_package_type'].cat.codes\n",
    "x1['safety_rating'] = x1['safety_rating'].cat.codes\n",
    "x1['discount'] = x1['discount'].cat.codes\n",
    "x1['quote_range'] = x1['quote_range'].cat.codes"
   ]
  },
  {
   "cell_type": "code",
   "execution_count": null,
   "id": "25a676f5",
   "metadata": {
    "colab": {
     "base_uri": "https://localhost:8080/",
     "height": 305
    },
    "id": "25a676f5",
    "outputId": "ca55869f-5915-4ea9-cfba-7def7ae199e8"
   },
   "outputs": [],
   "source": [
    "x1.head()"
   ]
  },
  {
   "cell_type": "code",
   "execution_count": null,
   "id": "07145f49",
   "metadata": {
    "colab": {
     "base_uri": "https://localhost:8080/"
    },
    "id": "07145f49",
    "outputId": "bc0df572-6ecd-4d90-a804-3a220c421f73"
   },
   "outputs": [],
   "source": [
    "x1.columns"
   ]
  },
  {
   "cell_type": "code",
   "execution_count": null,
   "id": "74ded024",
   "metadata": {
    "id": "74ded024"
   },
   "outputs": [],
   "source": [
    "x1.drop(['log_quote', 'Prior_carrier_grp_0', 'county_name_0'], axis = 1, inplace=True)"
   ]
  },
  {
   "cell_type": "code",
   "execution_count": null,
   "id": "5250ec32",
   "metadata": {
    "id": "5250ec32"
   },
   "outputs": [],
   "source": [
    "x1.drop(['primary_parking_home/driveway', 'primary_parking_parking garage',\n",
    "       'primary_parking_street', 'primary_parking_unknown', 'state_id_AL', 'state_id_CT', 'state_id_FL',\n",
    "       'state_id_GA', 'state_id_MN', 'state_id_NJ',\n",
    "       'state_id_WI'], axis = 1, inplace = True)"
   ]
  },
  {
   "cell_type": "code",
   "execution_count": null,
   "id": "47d66253",
   "metadata": {
    "id": "47d66253"
   },
   "outputs": [],
   "source": [
    "y = x1['convert_ind']\n",
    "x1 = x1.drop(['convert_ind'], axis = 1)"
   ]
  },
  {
   "cell_type": "code",
   "execution_count": null,
   "id": "01165141",
   "metadata": {
    "id": "01165141"
   },
   "outputs": [],
   "source": [
    "from sklearn.preprocessing import MinMaxScaler\n",
    "scaler = MinMaxScaler()\n",
    "train_x_scaled = scaler.fit_transform(x1)\n",
    "train_x_scaled = pd.DataFrame(train_x_scaled, columns=x1.columns)\n"
   ]
  },
  {
   "cell_type": "code",
   "execution_count": null,
   "id": "66c14196",
   "metadata": {
    "id": "66c14196"
   },
   "outputs": [],
   "source": []
  },
  {
   "cell_type": "markdown",
   "id": "b64515b6",
   "metadata": {
    "id": "b64515b6"
   },
   "source": [
    "______________________________\n",
    "\n",
    "# XGBoost\n",
    "\n",
    "## Run this\n",
    "________________________________"
   ]
  },
  {
   "cell_type": "code",
   "execution_count": null,
   "id": "b24c6cfb",
   "metadata": {
    "colab": {
     "base_uri": "https://localhost:8080/"
    },
    "id": "b24c6cfb",
    "outputId": "3800c417-7bc2-40f1-de16-285676d7f73b"
   },
   "outputs": [],
   "source": [
    "pip install xgboost"
   ]
  },
  {
   "cell_type": "code",
   "execution_count": null,
   "id": "38a7fda0",
   "metadata": {
    "id": "38a7fda0"
   },
   "outputs": [],
   "source": [
    "import xgboost as xgb"
   ]
  },
  {
   "cell_type": "code",
   "execution_count": null,
   "id": "4be5835a",
   "metadata": {
    "id": "4be5835a"
   },
   "outputs": [],
   "source": [
    "from sklearn.metrics import accuracy_score\n",
    "from sklearn.model_selection import train_test_split\n",
    "from sklearn.metrics import classification_report as rep"
   ]
  },
  {
   "cell_type": "markdown",
   "id": "35f73015",
   "metadata": {
    "id": "35f73015"
   },
   "source": [
    "________________________________\n",
    "\n",
    "## Grid Search Optimization and Model Fitting"
   ]
  },
  {
   "cell_type": "code",
   "execution_count": null,
   "id": "5635cae0",
   "metadata": {
    "id": "5635cae0"
   },
   "outputs": [],
   "source": [
    "estimator = xgb.XGBClassifier(objective ='binary:logistic', tree_method = 'gpu_hist',sampling_method='gradient_based',nthread = 4, seed = 20)"
   ]
  },
  {
   "cell_type": "code",
   "execution_count": null,
   "id": "3b3ce0d6",
   "metadata": {
    "id": "3b3ce0d6"
   },
   "outputs": [],
   "source": [
    "X_train, X_test, y_train, y_test = train_test_split(train_x_scaled, y, test_size=0.2, stratify=y, random_state=20)"
   ]
  },
  {
   "cell_type": "code",
   "execution_count": null,
   "id": "efc54e78",
   "metadata": {
    "id": "efc54e78"
   },
   "outputs": [],
   "source": [
    "from scipy.stats import randint as sp_randint\n",
    "from scipy.stats import uniform as sp_uniform\n",
    "\n",
    "param_test = {\n",
    "    'colsample_bytree': sp_uniform(loc=0.4, scale=0.6),\n",
    "    'max_depth': range (6, 8, 1),\n",
    "    'n_estimators': sp_randint(100, 800),\n",
    "    'learning_rate': [0.025, 0.1, 0.01, 0.05],\n",
    "    'num_rounds': [5,10,15],\n",
    "    'reg_alpha': [0, 1e-1, 1, 2, 5, 7, 10, 50, 100],\n",
    "    'reg_lambda': [0, 1e-1, 1, 5, 10, 20, 50, 100],\n",
    "        'scale_pos_weight': sp_randint(4, 15)\n",
    "}"
   ]
  },
  {
   "cell_type": "code",
   "execution_count": null,
   "id": "00935903",
   "metadata": {
    "id": "00935903"
   },
   "outputs": [],
   "source": [
    "'''n_HP_points_to_test = 500\n",
    "from sklearn.model_selection import RandomizedSearchCV, GridSearchCV\n",
    "\n",
    "gs = RandomizedSearchCV(\n",
    "    estimator=estimator, param_distributions=param_test,\n",
    "    n_iter=n_HP_points_to_test,\n",
    "    scoring='roc_auc',\n",
    "    cv=3,\n",
    "    refit=True,\n",
    "    random_state=1,\n",
    "    verbose=True)'''"
   ]
  },
  {
   "cell_type": "code",
   "execution_count": null,
   "id": "67a88ed2",
   "metadata": {
    "colab": {
     "base_uri": "https://localhost:8080/",
     "height": 328
    },
    "id": "67a88ed2",
    "outputId": "0d85f858-9b42-4172-be45-ec216230acc1"
   },
   "outputs": [],
   "source": [
    "'''gs.fit(X_train, y_train)"
   ]
  },
  {
   "cell_type": "code",
   "execution_count": null,
   "id": "d42a80ae",
   "metadata": {
    "id": "d42a80ae"
   },
   "outputs": [],
   "source": [
    "#print('Best score reached: {} with params: {} '.format(gs.best_score_, gs.best_params_))"
   ]
  },
  {
   "cell_type": "markdown",
   "id": "657eba1c",
   "metadata": {
    "id": "657eba1c"
   },
   "source": [
    "#### Best score reached: 0.6846207236377041 with params: {'colsample_bytree': 0.5019644285303547, 'learning_rate': 0.025, 'max_depth': 6, 'n_estimators': 555, 'num_rounds': 5, 'reg_alpha': 100, 'reg_lambda': 50, 'scale_pos_weight': 13}"
   ]
  },
  {
   "cell_type": "markdown",
   "id": "b66f6119",
   "metadata": {
    "id": "b66f6119"
   },
   "source": [
    "## Run the code below to fit the model and then predict on the test"
   ]
  },
  {
   "cell_type": "code",
   "execution_count": null,
   "id": "704a3f3f",
   "metadata": {
    "id": "704a3f3f"
   },
   "outputs": [],
   "source": [
    "xgb_final = xgb.XGBClassifier(objective ='binary:logistic',sampling_method='gradient_based',base_score=0.5, booster='gbtree', callbacks=None,\n",
    "              colsample_bylevel=1, colsample_bynode=1,\n",
    "              colsample_bytree=0.5019644285303547, early_stopping_rounds=None,\n",
    "              enable_categorical=False, eval_metric=None, feature_types=None,\n",
    "              gamma=0, gpu_id=0, grow_policy='depthwise', importance_type=None,\n",
    "              interaction_constraints='', learning_rate=0.025, max_bin=256,\n",
    "              max_cat_threshold=64, max_cat_to_onehot=4, max_delta_step=0,\n",
    "              max_depth=6, max_leaves=0, min_child_weight=1, n_estimators=555, n_jobs=4, nthread=4,\n",
    "              num_parallel_tree=1, num_rounds=5, reg_alpha = 100, reg_lambda = 50, scale_pos_weight = 13, seed = 20)"
   ]
  },
  {
   "cell_type": "code",
   "execution_count": null,
   "id": "82e02fa4",
   "metadata": {
    "colab": {
     "base_uri": "https://localhost:8080/",
     "height": 623
    },
    "id": "82e02fa4",
    "outputId": "a7595521-64d7-4ca8-80c7-b176d72a7224"
   },
   "outputs": [],
   "source": [
    "xgb_final.fit(X_train,y_train)"
   ]
  },
  {
   "cell_type": "code",
   "execution_count": null,
   "id": "329def50",
   "metadata": {
    "colab": {
     "base_uri": "https://localhost:8080/",
     "height": 328
    },
    "id": "329def50",
    "outputId": "da9459cd-cee4-4c15-8f89-3bc628c7c3a2"
   },
   "outputs": [],
   "source": [
    "preds_train = xgb_final.predict(X_train)\n",
    "preds_test = xgb_final.predict(X_test)"
   ]
  },
  {
   "cell_type": "code",
   "execution_count": null,
   "id": "92af692a",
   "metadata": {
    "id": "92af692a"
   },
   "outputs": [],
   "source": [
    "test_prob = xgb_final.predict_proba(X_test)\n",
    "test_prob"
   ]
  },
  {
   "cell_type": "code",
   "execution_count": null,
   "id": "34aa9551",
   "metadata": {
    "id": "34aa9551"
   },
   "outputs": [],
   "source": [
    "from sklearn.metrics import roc_auc_score\n",
    "auc = roc_auc_score(y_train,preds_train)\n",
    "print('AUC: %.3f' % auc)"
   ]
  },
  {
   "cell_type": "code",
   "execution_count": null,
   "id": "aff7bcc2",
   "metadata": {
    "id": "aff7bcc2"
   },
   "outputs": [],
   "source": [
    "from sklearn.metrics import roc_auc_score\n",
    "auc = roc_auc_score(y_test,preds_test)\n",
    "print('AUC: %.3f' % auc)"
   ]
  },
  {
   "cell_type": "code",
   "execution_count": null,
   "id": "6799f1c6",
   "metadata": {
    "id": "6799f1c6"
   },
   "outputs": [],
   "source": [
    "xgb.plot_importance(xgb_final)\n",
    "plt.rcParams['figure.figsize'] = [15, 15]\n",
    "plt.show()\n",
    "plt.savefig('sample.pdf')"
   ]
  },
  {
   "cell_type": "code",
   "execution_count": null,
   "id": "220635b7",
   "metadata": {
    "id": "220635b7"
   },
   "outputs": [],
   "source": [
    "import os\n",
    "os.environ[\"PATH\"] += os.pathsep + 'C:/Program Files/Graphviz7.0.1/bin/'"
   ]
  },
  {
   "cell_type": "code",
   "execution_count": null,
   "id": "bece1111",
   "metadata": {
    "id": "bece1111"
   },
   "outputs": [],
   "source": [
    "xgb.plot_tree(xgb_final, rankdir='LR')\n",
    "fig = plt.gcf()\n",
    "fig.set_size_inches(50, 85)"
   ]
  },
  {
   "cell_type": "code",
   "execution_count": null,
   "id": "848d3f44",
   "metadata": {
    "id": "848d3f44"
   },
   "outputs": [],
   "source": [
    "pip install shap"
   ]
  },
  {
   "cell_type": "code",
   "execution_count": null,
   "id": "1b4105e2",
   "metadata": {
    "id": "1b4105e2"
   },
   "outputs": [],
   "source": [
    "import shap"
   ]
  },
  {
   "cell_type": "code",
   "execution_count": null,
   "id": "a6e2aea0",
   "metadata": {
    "id": "a6e2aea0"
   },
   "outputs": [],
   "source": [
    "#X_train, y_train = shap.datasets.boston()"
   ]
  },
  {
   "cell_type": "code",
   "execution_count": null,
   "id": "d6158830",
   "metadata": {
    "id": "d6158830"
   },
   "outputs": [],
   "source": [
    "explainer = shap.Explainer(xgb_final)\n",
    "shap_values = explainer(X_train)"
   ]
  },
  {
   "cell_type": "code",
   "execution_count": null,
   "id": "5f4f7d56",
   "metadata": {
    "id": "5f4f7d56"
   },
   "outputs": [],
   "source": [
    "# visualize the first prediction's explanation\n",
    "shap.plots.waterfall(shap_values[0], max_display = 16)"
   ]
  },
  {
   "cell_type": "code",
   "execution_count": null,
   "id": "020dd161",
   "metadata": {
    "id": "020dd161"
   },
   "outputs": [],
   "source": [
    "# summarize the effects of all the features\n",
    "shap.summary_plot(shap_values, X_train)"
   ]
  },
  {
   "cell_type": "code",
   "execution_count": null,
   "id": "cb524069",
   "metadata": {
    "id": "cb524069"
   },
   "outputs": [],
   "source": [
    "shap.plots.force(shap_values[0])"
   ]
  },
  {
   "cell_type": "code",
   "execution_count": null,
   "id": "ae56c86c",
   "metadata": {
    "id": "ae56c86c"
   },
   "outputs": [],
   "source": [
    "shap.plots.bar(shap_values, max_display = 15)"
   ]
  },
  {
   "cell_type": "code",
   "execution_count": null,
   "id": "fd7f6d02",
   "metadata": {
    "id": "fd7f6d02"
   },
   "outputs": [],
   "source": [
    "clustering = shap.utils.hclust(X_train, y_train) # by default this trains (X.shape[1] choose 2) 2-feature XGBoost models\n",
    "shap.plots.bar(shap_values, clustering=clustering, max_display = 15)"
   ]
  },
  {
   "cell_type": "markdown",
   "id": "b968b858",
   "metadata": {
    "id": "b968b858"
   },
   "source": [
    "# Predicting on Test"
   ]
  },
  {
   "cell_type": "code",
   "execution_count": null,
   "id": "813149a2",
   "metadata": {
    "id": "813149a2"
   },
   "outputs": [],
   "source": [
    "test.shape"
   ]
  },
  {
   "cell_type": "code",
   "execution_count": null,
   "id": "824378b7",
   "metadata": {
    "id": "824378b7"
   },
   "outputs": [],
   "source": [
    "test = pd.merge(left = test, right = vvdata, how = 'inner', on = 'policy_id')\n",
    "test.head()\n"
   ]
  },
  {
   "cell_type": "code",
   "execution_count": null,
   "id": "d86b9940",
   "metadata": {
    "id": "d86b9940"
   },
   "outputs": [],
   "source": [
    "test.shape"
   ]
  },
  {
   "cell_type": "code",
   "execution_count": null,
   "id": "d83233b5",
   "metadata": {
    "id": "d83233b5"
   },
   "outputs": [],
   "source": [
    "test = pd.merge(left = test, right = dddata, how = 'left', on = 'policy_id')\n",
    "test.head()"
   ]
  },
  {
   "cell_type": "code",
   "execution_count": null,
   "id": "2d0cfd67",
   "metadata": {
    "id": "2d0cfd67"
   },
   "outputs": [],
   "source": [
    "test.shape"
   ]
  },
  {
   "cell_type": "code",
   "execution_count": null,
   "id": "0628c51f",
   "metadata": {
    "id": "0628c51f"
   },
   "outputs": [],
   "source": [
    "submission = pd.DataFrame(columns = ['policy_id', 'TARGET'])\n",
    "submission['policy_id'] = test['policy_id']"
   ]
  },
  {
   "cell_type": "code",
   "execution_count": null,
   "id": "79b83cba",
   "metadata": {
    "id": "79b83cba"
   },
   "outputs": [],
   "source": [
    "test['quote'] = test['quoted_amt'].str.replace(',','')\n",
    "test['quote'] = test['quote'].str.replace('$','')\n",
    "test['quote'] = pd.to_numeric(test['quote'], errors='coerce')\n",
    "test['quote'].dtype"
   ]
  },
  {
   "cell_type": "code",
   "execution_count": null,
   "id": "62461969",
   "metadata": {
    "id": "62461969"
   },
   "outputs": [],
   "source": [
    "bins = [0,2500,5000,7500,10000,200000]\n",
    "labels = ['Very Low','Low','Medium','High','Very High']\n",
    "test['quote_range'] = pd.cut(test['quote'], bins = bins, labels = labels)\n",
    "test.head()"
   ]
  },
  {
   "cell_type": "code",
   "execution_count": null,
   "id": "dd2a0f1e",
   "metadata": {
    "id": "dd2a0f1e"
   },
   "outputs": [],
   "source": [
    "test['log_quote'] = np.log(test['quote'])"
   ]
  },
  {
   "cell_type": "code",
   "execution_count": null,
   "id": "bfe2ff53",
   "metadata": {
    "id": "bfe2ff53"
   },
   "outputs": [],
   "source": [
    "test.shape"
   ]
  },
  {
   "cell_type": "code",
   "execution_count": null,
   "id": "0a7a62f3",
   "metadata": {
    "id": "0a7a62f3"
   },
   "outputs": [],
   "source": [
    "test['total_drivers'] = df_policy['gender_F']+df_policy['gender_M']"
   ]
  },
  {
   "cell_type": "code",
   "execution_count": null,
   "id": "127d393c",
   "metadata": {
    "id": "127d393c"
   },
   "outputs": [],
   "source": [
    "#test.drop(test[test['number_drivers'] != test['total_drivers']].index, axis = 0, inplace = True)"
   ]
  },
  {
   "cell_type": "code",
   "execution_count": null,
   "id": "a300ecc4",
   "metadata": {
    "id": "a300ecc4"
   },
   "outputs": [],
   "source": [
    "test.shape"
   ]
  },
  {
   "cell_type": "code",
   "execution_count": null,
   "id": "382a4fb9",
   "metadata": {
    "id": "382a4fb9"
   },
   "outputs": [],
   "source": [
    "bins = [0,59,69,79,89,100]\n",
    "labels = ['Very Low','Low','Medium','High','Very High']\n",
    "test['safety_rating'] = pd.cut(test['safty_rating'], bins = bins, labels = labels)\n",
    "test.head(5)"
   ]
  },
  {
   "cell_type": "code",
   "execution_count": null,
   "id": "e7f4c1d7",
   "metadata": {
    "id": "e7f4c1d7"
   },
   "outputs": [],
   "source": [
    "test['county_name'] = np.where((test['county_name'] == 'New York')|(test['county_name'] =='Kings'), test['county_name'], 0)"
   ]
  },
  {
   "cell_type": "code",
   "execution_count": null,
   "id": "b8276084",
   "metadata": {
    "id": "b8276084"
   },
   "outputs": [],
   "source": [
    "test['Prior_carrier_grp'] = np.where((test['Prior_carrier_grp'] == 'Carrier_3')|(test['Prior_carrier_grp'] =='Carrier_7')|(test['Prior_carrier_grp'] =='Carrier_8'), test['Prior_carrier_grp'], 0)"
   ]
  },
  {
   "cell_type": "code",
   "execution_count": null,
   "id": "c9e5844a",
   "metadata": {
    "id": "c9e5844a"
   },
   "outputs": [],
   "source": [
    "test.drop(['make_ACURA ', 'make_BUICK ', 'make_CADILLAC ', 'make_CHRYSLER ', 'make_DODGE ','make_FORD ', 'make_GMC ','make_MAZDA ',\n",
    "                'make_NISSAN ','make_RAM ','make_SATURN ','make_SMART ','make_SUBARU ','make_TOYOTA '], axis = 1, inplace = True)"
   ]
  },
  {
   "cell_type": "code",
   "execution_count": null,
   "id": "5477eade",
   "metadata": {
    "id": "5477eade"
   },
   "outputs": [],
   "source": [
    "test.columns"
   ]
  },
  {
   "cell_type": "code",
   "execution_count": null,
   "id": "350b6a58",
   "metadata": {
    "id": "350b6a58"
   },
   "outputs": [],
   "source": [
    "bins = [0,500,600,700,800,850]\n",
    "labels = ['Very Low','Low','Medium','High','Very High']\n",
    "test['credit_score_range'] = pd.cut(test['credit_score'], bins = bins, labels = labels)"
   ]
  },
  {
   "cell_type": "code",
   "execution_count": null,
   "id": "ee18b4b4",
   "metadata": {
    "id": "ee18b4b4"
   },
   "outputs": [],
   "source": [
    "test.drop(['quoted_amt', 'total_drivers'], axis = 1, inplace = True)"
   ]
  },
  {
   "cell_type": "code",
   "execution_count": null,
   "id": "394c6d0e",
   "metadata": {
    "id": "394c6d0e"
   },
   "outputs": [],
   "source": [
    "test['safety_range'] = test['safety_max'] - test['safety_min']\n",
    "test['car_age_range'] = test['age_max'] - test['age_min']"
   ]
  },
  {
   "cell_type": "code",
   "execution_count": null,
   "id": "7d7e0ac7",
   "metadata": {
    "id": "7d7e0ac7"
   },
   "outputs": [],
   "source": [
    "test['Quote_dt'] = pd.to_datetime(test['Quote_dt'])"
   ]
  },
  {
   "cell_type": "code",
   "execution_count": null,
   "id": "556c1d62",
   "metadata": {
    "id": "556c1d62"
   },
   "outputs": [],
   "source": [
    "test['Quote_month'] = test['Quote_dt'].dt.month\n",
    "test['Quote_quarter'] = test['Quote_dt'].dt.quarter\n",
    "test['Quote_year'] = test['Quote_dt'].dt.year"
   ]
  },
  {
   "cell_type": "code",
   "execution_count": null,
   "id": "8392ad7c",
   "metadata": {
    "id": "8392ad7c"
   },
   "outputs": [],
   "source": [
    "test.drop(['split', 'Unnamed: 0', 'Quote_dt', 'zip', 'Agent_cd', 'policy_id'], axis = 1, inplace=True)"
   ]
  },
  {
   "cell_type": "code",
   "execution_count": null,
   "id": "c3a0779e",
   "metadata": {
    "id": "c3a0779e"
   },
   "outputs": [],
   "source": [
    "test = pd.get_dummies(test, columns = ['state_id','Prior_carrier_grp', 'primary_parking', 'county_name' ])"
   ]
  },
  {
   "cell_type": "code",
   "execution_count": null,
   "id": "061af648",
   "metadata": {
    "id": "061af648"
   },
   "outputs": [],
   "source": [
    "test['discount'] = test['discount'].astype('category')\n",
    "test['Home_policy_ind'] = test['Home_policy_ind'].astype('category')\n",
    "test['Cov_package_type'] = test['Cov_package_type'].astype('category')"
   ]
  },
  {
   "cell_type": "code",
   "execution_count": null,
   "id": "757eaaad",
   "metadata": {
    "id": "757eaaad"
   },
   "outputs": [],
   "source": [
    "test['credit_score_range'] = test['credit_score_range'].cat.codes\n",
    "test['Home_policy_ind'] = test['Home_policy_ind'].cat.codes\n",
    "test['Cov_package_type'] = test['Cov_package_type'].cat.codes\n",
    "test['safety_rating'] = test['safety_rating'].cat.codes\n",
    "test['discount'] = test['discount'].cat.codes\n",
    "test['quote_range'] = test['quote_range'].cat.codes"
   ]
  },
  {
   "cell_type": "code",
   "execution_count": null,
   "id": "d3a7c5c9",
   "metadata": {
    "id": "d3a7c5c9"
   },
   "outputs": [],
   "source": [
    "test.drop(['primary_parking_home/driveway', 'primary_parking_parking garage',\n",
    "       'primary_parking_street', 'primary_parking_unknown', 'state_id_AL', 'state_id_CT', 'state_id_FL',\n",
    "       'state_id_GA', 'state_id_MN', 'state_id_NJ',\n",
    "       'state_id_WI'], axis = 1, inplace = True)"
   ]
  },
  {
   "cell_type": "code",
   "execution_count": null,
   "id": "53b2c08d",
   "metadata": {
    "id": "53b2c08d"
   },
   "outputs": [],
   "source": [
    "test.columns"
   ]
  },
  {
   "cell_type": "code",
   "execution_count": null,
   "id": "7ec7bfe1",
   "metadata": {
    "id": "7ec7bfe1"
   },
   "outputs": [],
   "source": [
    "test.drop(['log_quote', 'Prior_carrier_grp_0', 'county_name_0'], axis = 1, inplace=True)"
   ]
  },
  {
   "cell_type": "code",
   "execution_count": null,
   "id": "fb6e1ecf",
   "metadata": {
    "id": "fb6e1ecf"
   },
   "outputs": [],
   "source": [
    "test.info()"
   ]
  },
  {
   "cell_type": "code",
   "execution_count": null,
   "id": "a9810438",
   "metadata": {
    "id": "a9810438"
   },
   "outputs": [],
   "source": [
    "test_x = test.drop(['convert_ind'], axis = 1)"
   ]
  },
  {
   "cell_type": "code",
   "execution_count": null,
   "id": "12ac6f53",
   "metadata": {
    "id": "12ac6f53"
   },
   "outputs": [],
   "source": [
    "scaler = MinMaxScaler()\n",
    "test_x_scaled = scaler.fit_transform(test_x)\n",
    "test_x_scaled = pd.DataFrame(test_x_scaled, columns=test_x.columns)"
   ]
  },
  {
   "cell_type": "code",
   "execution_count": null,
   "id": "fe7b4ce1",
   "metadata": {
    "id": "fe7b4ce1"
   },
   "outputs": [],
   "source": [
    "#xgb_final.fit(train_x_scaled,y)"
   ]
  },
  {
   "cell_type": "code",
   "execution_count": null,
   "id": "56e22161",
   "metadata": {
    "id": "56e22161"
   },
   "outputs": [],
   "source": [
    "test_y = xgb_final.predict(test_x_scaled)"
   ]
  },
  {
   "cell_type": "code",
   "execution_count": null,
   "id": "a3c31fa9",
   "metadata": {
    "id": "a3c31fa9"
   },
   "outputs": [],
   "source": [
    "#print(\"Accuracy of Model::\",accuracy_score(test_y,test_preds))"
   ]
  },
  {
   "cell_type": "code",
   "execution_count": null,
   "id": "47212be7",
   "metadata": {
    "id": "47212be7"
   },
   "outputs": [],
   "source": [
    "test_prob = xgb_final.predict_proba(test_x_scaled)\n",
    "test_prob"
   ]
  },
  {
   "cell_type": "code",
   "execution_count": null,
   "id": "74164a13",
   "metadata": {
    "id": "74164a13"
   },
   "outputs": [],
   "source": [
    "submission.shape"
   ]
  },
  {
   "cell_type": "code",
   "execution_count": null,
   "id": "1cb73c76",
   "metadata": {
    "id": "1cb73c76"
   },
   "outputs": [],
   "source": [
    "c = pd.DataFrame(test_prob[:,1].tolist(), columns = ['predictions'])\n",
    "c.head()"
   ]
  },
  {
   "cell_type": "code",
   "execution_count": null,
   "id": "a0d8e0ee",
   "metadata": {
    "id": "a0d8e0ee"
   },
   "outputs": [],
   "source": [
    "submission['TARGET'] = c['predictions']"
   ]
  },
  {
   "cell_type": "code",
   "execution_count": null,
   "id": "0edfb24c",
   "metadata": {
    "id": "0edfb24c"
   },
   "outputs": [],
   "source": [
    "submission.head()"
   ]
  },
  {
   "cell_type": "code",
   "execution_count": null,
   "id": "dcd88eb4",
   "metadata": {
    "id": "dcd88eb4"
   },
   "outputs": [],
   "source": [
    "#submission.to_csv('test_predictions18.csv')"
   ]
  },
  {
   "cell_type": "code",
   "execution_count": null,
   "id": "191ff6ca",
   "metadata": {
    "id": "191ff6ca"
   },
   "outputs": [],
   "source": [
    "xgboost.plot_importance(model)\n",
    "pl.title(\"xgboost.plot_importance(model)\")\n",
    "pl.show()"
   ]
  }
 ],
 "metadata": {
  "colab": {
   "provenance": []
  },
  "kernelspec": {
   "display_name": "Python 3 (ipykernel)",
   "language": "python",
   "name": "python3"
  },
  "language_info": {
   "codemirror_mode": {
    "name": "ipython",
    "version": 3
   },
   "file_extension": ".py",
   "mimetype": "text/x-python",
   "name": "python",
   "nbconvert_exporter": "python",
   "pygments_lexer": "ipython3",
   "version": "3.9.13"
  }
 },
 "nbformat": 4,
 "nbformat_minor": 5
}
